{
 "cells": [
  {
   "cell_type": "markdown",
   "id": "103bfa4d",
   "metadata": {},
   "source": [
    "### Import data to Sedona"
   ]
  },
  {
   "cell_type": "code",
   "execution_count": null,
   "id": "eea0b44b",
   "metadata": {},
   "outputs": [],
   "source": [
    "import xarray as xr\n",
    "import os\n",
    "\n",
    "home_dir = \"/home/uribe-55/sedona_experiments\"\n",
    "data_dir = os.path.join(home_dir, \"processed_data\")\n",
    "ds = xr.open_dataset(os.path.join(data_dir, \"2m_temperature_GL_2015-2024.nc\"))"
   ]
  },
  {
   "cell_type": "code",
   "execution_count": null,
   "id": "fd0d8832",
   "metadata": {},
   "outputs": [],
   "source": [
    "from sedona.spark import SedonaContext\n",
    "from pyspark.sql.functions import expr\n",
    "\n",
    "# Convert xarray to Pandas DataFrame\n",
    "df = ds['2m_temperature'].to_dataframe().reset_index()\n",
    "\n",
    "# Start Spark + Sedona\n",
    "config = SedonaContext.builder(). \\\n",
    "    config('spark.jars.repositories', 'https://artifacts.unidata.ucar.edu/repository/unidata-all/'). \\\n",
    "    config('spark.jars.packages',\n",
    "           'org.apache.sedona:sedona-spark-3.5_2.12:1.7.1,'\n",
    "           'org.datasyslab:geotools-wrapper:1.7.1-28.5,'\n",
    "           'edu.ucar:cdm-core:5.4.2'). \\\n",
    "    config('spark.driver.memory', '10g'). \\\n",
    "    config('spark.driver.maxResultSize', '5g'). \\\n",
    "    config('spark.network.timeout', '1000s'). \\\n",
    "    getOrCreate()\n",
    "sedona = SedonaContext.create(config)\n",
    "\n",
    "# Convert Pandas DataFrame to Spark DataFrame\n",
    "sdf = config.createDataFrame(df)\n",
    "\n",
    "# Create a geometry column for spatial queries\n",
    "sdf = sdf.withColumn(\"geom\", expr(\"ST_Point(cast(longitude as double), cast(latitude as double))\"))\n",
    "# sdf.show()\n",
    "\n",
    "# Register as temp view\n",
    "sdf.createOrReplaceTempView(\"temp_view\")"
   ]
  },
  {
   "cell_type": "markdown",
   "id": "8a50cde9",
   "metadata": {},
   "source": [
    "### Get Variable Query"
   ]
  },
  {
   "cell_type": "code",
   "execution_count": null,
   "id": "1aa54088",
   "metadata": {},
   "outputs": [],
   "source": [
    "import pyspark.sql.functions as f\n",
    "\n",
    "# Inputs\n",
    "min_lat = 70\n",
    "max_lat = 80\n",
    "min_lon = -60\n",
    "max_lon = -50\n",
    "start_time = \"2022-01-01 00:00:00\"\n",
    "end_time = \"2023-01-02 00:00:00\"\n",
    "agg = \"mean\"\n",
    "temp_agg = f\"{f.day('time')}\"\n"
   ]
  },
  {
   "cell_type": "markdown",
   "id": "8c49a454",
   "metadata": {},
   "source": [
    "Query"
   ]
  },
  {
   "cell_type": "code",
   "execution_count": null,
   "id": "c212ac10",
   "metadata": {},
   "outputs": [],
   "source": [
    "query = f\"\"\"\n",
    "    SELECT time, latitude, longitude, mean(`2m_temperature`)\n",
    "    FROM temp_view\n",
    "    WHERE latitude BETWEEN {min_lat} AND {max_lat}\n",
    "        AND longitude BETWEEN {min_lon} AND {max_lon} \n",
    "    GROUPBY  {temp_agg}, latitude , longitude\n",
    "    \"\"\""
   ]
  },
  {
   "cell_type": "markdown",
   "id": "4023903d",
   "metadata": {},
   "source": [
    "Result"
   ]
  },
  {
   "cell_type": "code",
   "execution_count": null,
   "id": "1c3c9f29",
   "metadata": {},
   "outputs": [],
   "source": [
    "result = sedona.sql(query)\n",
    "result.show()"
   ]
  },
  {
   "cell_type": "code",
   "execution_count": null,
   "id": "b9848d35",
   "metadata": {},
   "outputs": [],
   "source": [
    "sedona.stop()"
   ]
  }
 ],
 "metadata": {
  "kernelspec": {
   "display_name": "venv",
   "language": "python",
   "name": "python3"
  },
  "language_info": {
   "codemirror_mode": {
    "name": "ipython",
    "version": 3
   },
   "file_extension": ".py",
   "mimetype": "text/x-python",
   "name": "python",
   "nbconvert_exporter": "python",
   "pygments_lexer": "ipython3",
   "version": "3.9.6"
  }
 },
 "nbformat": 4,
 "nbformat_minor": 5
}
