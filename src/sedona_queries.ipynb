{
 "cells": [
  {
   "cell_type": "markdown",
   "id": "103bfa4d",
   "metadata": {},
   "source": [
    "# Import data to Sedona and create Polaris SQL queries"
   ]
  },
  {
   "cell_type": "code",
   "execution_count": 2,
   "id": "eea0b44b",
   "metadata": {},
   "outputs": [],
   "source": [
    "import xarray as xr\n",
    "import os\n",
    "\n",
    "data_dir = \"/home/uribe055/sedona_experiments/processed_data/\""
   ]
  },
  {
   "cell_type": "markdown",
   "id": "fe50a87b",
   "metadata": {},
   "source": [
    "### Code for when data is split into multiple (daily) files"
   ]
  },
  {
   "cell_type": "code",
   "execution_count": 3,
   "id": "4adcab4e",
   "metadata": {},
   "outputs": [
    {
     "name": "stderr",
     "output_type": "stream",
     "text": [
      "25/05/25 16:10:08 WARN UDTRegistration: Cannot register UDT for org.geotools.coverage.grid.GridCoverage2D, which is already registered.\n",
      "25/05/25 16:10:08 WARN SimpleFunctionRegistry: The function rs_union_aggr replaced a previously registered function.\n",
      "25/05/25 16:10:08 WARN UDTRegistration: Cannot register UDT for org.locationtech.jts.geom.Geometry, which is already registered.\n",
      "25/05/25 16:10:08 WARN UDTRegistration: Cannot register UDT for org.apache.sedona.common.geometryObjects.Geography, which is already registered.\n",
      "25/05/25 16:10:08 WARN UDTRegistration: Cannot register UDT for org.locationtech.jts.index.SpatialIndex, which is already registered.\n",
      "25/05/25 16:10:08 WARN SimpleFunctionRegistry: The function st_envelope_aggr replaced a previously registered function.\n",
      "25/05/25 16:10:08 WARN SimpleFunctionRegistry: The function st_intersection_aggr replaced a previously registered function.\n",
      "25/05/25 16:10:08 WARN SimpleFunctionRegistry: The function st_union_aggr replaced a previously registered function.\n"
     ]
    }
   ],
   "source": [
    "from sedona.spark import SedonaContext\n",
    "from pyspark.sql.functions import expr\n",
    "\n",
    "# Start Spark + Sedona\n",
    "config = SedonaContext.builder(). \\\n",
    "    config('spark.jars.repositories', 'https://artifacts.unidata.ucar.edu/repository/unidata-all/'). \\\n",
    "    config('spark.jars.packages',\n",
    "           'org.apache.sedona:sedona-spark-3.5_2.12:1.7.1,'\n",
    "           'org.datasyslab:geotools-wrapper:1.7.1-28.5,'\n",
    "           'edu.ucar:cdm-core:5.4.2'). \\\n",
    "    config('spark.driver.memory', '10g'). \\\n",
    "    config('spark.driver.maxResultSize', '5g'). \\\n",
    "    config('spark.network.timeout', '1000s'). \\\n",
    "    getOrCreate()\n",
    "sedona = SedonaContext.create(config)\n"
   ]
  },
  {
   "cell_type": "code",
   "execution_count": 20,
   "id": "b2f5cd44",
   "metadata": {},
   "outputs": [
    {
     "name": "stderr",
     "output_type": "stream",
     "text": [
      "                                                                                \r"
     ]
    },
    {
     "name": "stdout",
     "output_type": "stream",
     "text": [
      "+--------+---------+------+-------------------+------+--------------+-----------------+\n",
      "|latitude|longitude|number|               time|expver|2m_temperature|             geom|\n",
      "+--------+---------+------+-------------------+------+--------------+-----------------+\n",
      "|    84.0|    -75.0|     0|2023-12-27 00:00:00|  0001|     243.76312|   POINT (-75 84)|\n",
      "|    84.0|   -74.75|     0|2023-12-27 00:00:00|  0001|     243.75336|POINT (-74.75 84)|\n",
      "|    84.0|    -74.5|     0|2023-12-27 00:00:00|  0001|     243.74554| POINT (-74.5 84)|\n",
      "|    84.0|   -74.25|     0|2023-12-27 00:00:00|  0001|     243.73773|POINT (-74.25 84)|\n",
      "|    84.0|    -74.0|     0|2023-12-27 00:00:00|  0001|     243.72015|   POINT (-74 84)|\n",
      "|    84.0|   -73.75|     0|2023-12-27 00:00:00|  0001|     243.66351|POINT (-73.75 84)|\n",
      "|    84.0|    -73.5|     0|2023-12-27 00:00:00|  0001|     243.60687| POINT (-73.5 84)|\n",
      "|    84.0|   -73.25|     0|2023-12-27 00:00:00|  0001|     243.55023|POINT (-73.25 84)|\n",
      "|    84.0|    -73.0|     0|2023-12-27 00:00:00|  0001|     243.49554|   POINT (-73 84)|\n",
      "|    84.0|   -72.75|     0|2023-12-27 00:00:00|  0001|      243.4389|POINT (-72.75 84)|\n",
      "|    84.0|    -72.5|     0|2023-12-27 00:00:00|  0001|     243.38226| POINT (-72.5 84)|\n",
      "|    84.0|   -72.25|     0|2023-12-27 00:00:00|  0001|     243.35883|POINT (-72.25 84)|\n",
      "|    84.0|    -72.0|     0|2023-12-27 00:00:00|  0001|     243.33734|   POINT (-72 84)|\n",
      "|    84.0|   -71.75|     0|2023-12-27 00:00:00|  0001|      243.3139|POINT (-71.75 84)|\n",
      "|    84.0|    -71.5|     0|2023-12-27 00:00:00|  0001|     243.29242| POINT (-71.5 84)|\n",
      "|    84.0|   -71.25|     0|2023-12-27 00:00:00|  0001|     243.26898|POINT (-71.25 84)|\n",
      "|    84.0|    -71.0|     0|2023-12-27 00:00:00|  0001|      243.2475|   POINT (-71 84)|\n",
      "|    84.0|   -70.75|     0|2023-12-27 00:00:00|  0001|     243.22992|POINT (-70.75 84)|\n",
      "|    84.0|    -70.5|     0|2023-12-27 00:00:00|  0001|      243.2143| POINT (-70.5 84)|\n",
      "|    84.0|   -70.25|     0|2023-12-27 00:00:00|  0001|     243.19867|POINT (-70.25 84)|\n",
      "+--------+---------+------+-------------------+------+--------------+-----------------+\n",
      "only showing top 20 rows\n",
      "\n"
     ]
    }
   ],
   "source": [
    "# Read in parquet files as Spark DataFrame\n",
    "sdf = sedona.read.parquet(f\"/home/uribe055/sedona_experiments/data/t2m_202*-*-*.parquet\")\n",
    "\n",
    "# Create a geometry column for spatial queries\n",
    "sdf = sdf.withColumn(\"geom\", expr(\"ST_Point(cast(longitude as double), cast(latitude as double))\"))\n",
    "sdf.show()"
   ]
  },
  {
   "cell_type": "code",
   "execution_count": 23,
   "id": "83649d76",
   "metadata": {},
   "outputs": [],
   "source": [
    "sdf.createOrReplaceTempView(\"temp_view\")"
   ]
  },
  {
   "cell_type": "markdown",
   "id": "497cfaaf",
   "metadata": {},
   "source": [
    "---"
   ]
  },
  {
   "cell_type": "markdown",
   "id": "8a50cde9",
   "metadata": {},
   "source": [
    "### Get Variable Query"
   ]
  },
  {
   "cell_type": "code",
   "execution_count": 28,
   "id": "1aa54088",
   "metadata": {},
   "outputs": [],
   "source": [
    "# Inputs\n",
    "min_lat = 70\n",
    "max_lat = 80\n",
    "min_lon = -60\n",
    "max_lon = -50\n",
    "start_time = \"2020-01-01 00:00:00\"\n",
    "end_time = \"2021-01-02 00:00:00\"\n"
   ]
  },
  {
   "cell_type": "code",
   "execution_count": 33,
   "id": "c212ac10",
   "metadata": {},
   "outputs": [],
   "source": [
    "query = f\"\"\"\n",
    "    SELECT time, latitude, longitude, `2m_temperature`\n",
    "    FROM temp_view\n",
    "    WHERE latitude BETWEEN {min_lat} AND {max_lat}\n",
    "        AND longitude BETWEEN {min_lon} AND {max_lon}\n",
    "    \"\"\""
   ]
  },
  {
   "cell_type": "code",
   "execution_count": 34,
   "id": "1c3c9f29",
   "metadata": {},
   "outputs": [
    {
     "name": "stdout",
     "output_type": "stream",
     "text": [
      "+-------------------+--------+---------+--------------+\n",
      "|               time|latitude|longitude|2m_temperature|\n",
      "+-------------------+--------+---------+--------------+\n",
      "|2023-12-27 00:00:00|    80.0|    -60.0|     235.80804|\n",
      "|2023-12-27 00:00:00|    80.0|   -59.75|     236.23187|\n",
      "|2023-12-27 00:00:00|    80.0|    -59.5|     236.17523|\n",
      "|2023-12-27 00:00:00|    80.0|   -59.25|     236.12054|\n",
      "|2023-12-27 00:00:00|    80.0|    -59.0|     236.06586|\n",
      "|2023-12-27 00:00:00|    80.0|   -58.75|     236.01312|\n",
      "|2023-12-27 00:00:00|    80.0|    -58.5|     235.96234|\n",
      "|2023-12-27 00:00:00|    80.0|   -58.25|     235.61859|\n",
      "|2023-12-27 00:00:00|    80.0|    -58.0|     235.27484|\n",
      "|2023-12-27 00:00:00|    80.0|   -57.75|     234.93304|\n",
      "|2023-12-27 00:00:00|    80.0|    -57.5|      234.5932|\n",
      "|2023-12-27 00:00:00|    80.0|   -57.25|     234.25531|\n",
      "|2023-12-27 00:00:00|    80.0|    -57.0|     233.83148|\n",
      "|2023-12-27 00:00:00|    80.0|   -56.75|      233.5346|\n",
      "|2023-12-27 00:00:00|    80.0|    -56.5|     233.31781|\n",
      "|2023-12-27 00:00:00|    80.0|   -56.25|     233.10101|\n",
      "|2023-12-27 00:00:00|    80.0|    -56.0|     232.88617|\n",
      "|2023-12-27 00:00:00|    80.0|   -55.75|     232.67328|\n",
      "|2023-12-27 00:00:00|    80.0|    -55.5|     232.45844|\n",
      "|2023-12-27 00:00:00|    80.0|   -55.25|     232.25922|\n",
      "+-------------------+--------+---------+--------------+\n",
      "only showing top 20 rows\n",
      "\n"
     ]
    }
   ],
   "source": [
    "result = sedona.sql(query)\n",
    "result.show()"
   ]
  },
  {
   "cell_type": "code",
   "execution_count": 35,
   "id": "b9848d35",
   "metadata": {},
   "outputs": [],
   "source": [
    "sedona.stop()"
   ]
  }
 ],
 "metadata": {
  "kernelspec": {
   "display_name": "Python (venv)",
   "language": "python",
   "name": "venv"
  },
  "language_info": {
   "codemirror_mode": {
    "name": "ipython",
    "version": 3
   },
   "file_extension": ".py",
   "mimetype": "text/x-python",
   "name": "python",
   "nbconvert_exporter": "python",
   "pygments_lexer": "ipython3",
   "version": "3.10.12"
  }
 },
 "nbformat": 4,
 "nbformat_minor": 5
}
