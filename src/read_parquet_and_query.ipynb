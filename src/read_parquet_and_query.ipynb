{
 "cells": [
  {
   "cell_type": "code",
   "execution_count": null,
   "id": "8d130812",
   "metadata": {},
   "outputs": [
    {
     "name": "stderr",
     "output_type": "stream",
     "text": [
      "25/05/25 22:25:52 WARN Utils: Your hostname, cs-spatial-501 resolves to a loopback address: 127.0.0.1; using 128.101.33.153 instead (on interface eno1)\n",
      "25/05/25 22:25:52 WARN Utils: Set SPARK_LOCAL_IP if you need to bind to another address\n",
      "https://artifacts.unidata.ucar.edu/repository/unidata-all/ added as a remote repository with the name: repo-1\n",
      "Ivy Default Cache set to: /home/huan1531/.ivy2/cache\n",
      "The jars for the packages stored in: /home/huan1531/.ivy2/jars\n",
      "org.apache.sedona#sedona-spark-3.5_2.12 added as a dependency\n",
      "org.datasyslab#geotools-wrapper added as a dependency\n",
      "edu.ucar#cdm-core added as a dependency\n",
      ":: resolving dependencies :: org.apache.spark#spark-submit-parent-90f7009d-f68c-429f-8d86-193945b63205;1.0\n",
      "\tconfs: [default]\n"
     ]
    },
    {
     "name": "stdout",
     "output_type": "stream",
     "text": [
      ":: loading settings :: url = jar:file:/export/scratch/huan1531/sedona_experiments/venv/lib/python3.10/site-packages/pyspark/jars/ivy-2.5.1.jar!/org/apache/ivy/core/settings/ivysettings.xml\n"
     ]
    },
    {
     "name": "stderr",
     "output_type": "stream",
     "text": [
      "\tfound org.apache.sedona#sedona-spark-3.5_2.12;1.7.1 in central\n",
      "\tfound org.apache.sedona#sedona-common;1.7.1 in central\n",
      "\tfound org.apache.commons#commons-math3;3.6.1 in central\n",
      "\tfound org.locationtech.jts#jts-core;1.20.0 in central\n",
      "\tfound org.wololo#jts2geojson;0.16.1 in central\n",
      "\tfound org.locationtech.spatial4j#spatial4j;0.8 in central\n",
      "\tfound com.google.geometry#s2-geometry;2.0.0 in central\n",
      "\tfound com.google.guava#guava;25.1-jre in central\n",
      "\tfound com.google.code.findbugs#jsr305;3.0.2 in central\n",
      "\tfound org.checkerframework#checker-qual;2.0.0 in central\n",
      "\tfound com.google.errorprone#error_prone_annotations;2.1.3 in central\n",
      "\tfound com.google.j2objc#j2objc-annotations;1.1 in central\n",
      "\tfound org.codehaus.mojo#animal-sniffer-annotations;1.14 in central\n",
      "\tfound com.uber#h3;4.1.1 in central\n",
      "\tfound net.sf.geographiclib#GeographicLib-Java;1.52 in central\n",
      "\tfound com.github.ben-manes.caffeine#caffeine;2.9.2 in central\n",
      "\tfound org.checkerframework#checker-qual;3.10.0 in central\n",
      "\tfound com.google.errorprone#error_prone_annotations;2.5.1 in central\n",
      "\tfound org.apache.sedona#sedona-spark-common-3.5_2.12;1.7.1 in central\n",
      "\tfound org.apache.sedona#shade-proto;1.7.1 in central\n",
      "\tfound org.xerial#sqlite-jdbc;3.41.2.2 in central\n",
      "\tfound commons-lang#commons-lang;2.6 in central\n",
      "\tfound graphframes#graphframes;0.8.3-spark3.5-s_2.12 in spark-packages\n",
      "\tfound org.slf4j#slf4j-api;1.7.36 in central\n",
      "\tfound org.scala-lang.modules#scala-collection-compat_2.12;2.5.0 in central\n",
      "\tfound org.beryx#awt-color-factory;1.0.0 in central\n",
      "\tfound org.datasyslab#geotools-wrapper;1.7.1-28.5 in central\n",
      "\tfound edu.ucar#cdm-core;5.4.2 in repo-1\n",
      "\tfound edu.ucar#udunits;5.4.2 in repo-1\n",
      "\tfound edu.ucar#httpservices;5.4.2 in repo-1\n",
      "\tfound com.google.guava#guava;30.1-jre in central\n",
      "\tfound com.google.guava#failureaccess;1.0.1 in central\n",
      "\tfound com.google.guava#listenablefuture;9999.0-empty-to-avoid-conflict-with-guava in central\n",
      "\tfound com.google.j2objc#j2objc-annotations;1.3 in central\n",
      "\tfound org.apache.httpcomponents#httpclient;4.5.13 in central\n",
      "\tfound org.apache.httpcomponents#httpcore;4.4.13 in central\n",
      "\tfound commons-logging#commons-logging;1.2 in central\n",
      "\tfound commons-codec#commons-codec;1.11 in central\n",
      "\tfound org.apache.httpcomponents#httpmime;4.5.13 in central\n",
      "\tfound com.google.re2j#re2j;1.3 in central\n",
      "\tfound com.beust#jcommander;1.78 in central\n",
      "\tfound com.google.protobuf#protobuf-java;3.12.4 in central\n",
      "\tfound joda-time#joda-time;2.10.3 in central\n",
      "\tfound org.jdom#jdom2;2.0.6 in central\n",
      ":: resolution report :: resolve 1387ms :: artifacts dl 72ms\n",
      "\t:: modules in use:\n",
      "\tcom.beust#jcommander;1.78 from central in [default]\n",
      "\tcom.github.ben-manes.caffeine#caffeine;2.9.2 from central in [default]\n",
      "\tcom.google.code.findbugs#jsr305;3.0.2 from central in [default]\n",
      "\tcom.google.errorprone#error_prone_annotations;2.5.1 from central in [default]\n",
      "\tcom.google.geometry#s2-geometry;2.0.0 from central in [default]\n",
      "\tcom.google.guava#failureaccess;1.0.1 from central in [default]\n",
      "\tcom.google.guava#guava;30.1-jre from central in [default]\n",
      "\tcom.google.guava#listenablefuture;9999.0-empty-to-avoid-conflict-with-guava from central in [default]\n",
      "\tcom.google.j2objc#j2objc-annotations;1.3 from central in [default]\n",
      "\tcom.google.protobuf#protobuf-java;3.12.4 from central in [default]\n",
      "\tcom.google.re2j#re2j;1.3 from central in [default]\n",
      "\tcom.uber#h3;4.1.1 from central in [default]\n",
      "\tcommons-codec#commons-codec;1.11 from central in [default]\n",
      "\tcommons-lang#commons-lang;2.6 from central in [default]\n",
      "\tcommons-logging#commons-logging;1.2 from central in [default]\n",
      "\tedu.ucar#cdm-core;5.4.2 from repo-1 in [default]\n",
      "\tedu.ucar#httpservices;5.4.2 from repo-1 in [default]\n",
      "\tedu.ucar#udunits;5.4.2 from repo-1 in [default]\n",
      "\tgraphframes#graphframes;0.8.3-spark3.5-s_2.12 from spark-packages in [default]\n",
      "\tjoda-time#joda-time;2.10.3 from central in [default]\n",
      "\tnet.sf.geographiclib#GeographicLib-Java;1.52 from central in [default]\n",
      "\torg.apache.commons#commons-math3;3.6.1 from central in [default]\n",
      "\torg.apache.httpcomponents#httpclient;4.5.13 from central in [default]\n",
      "\torg.apache.httpcomponents#httpcore;4.4.13 from central in [default]\n",
      "\torg.apache.httpcomponents#httpmime;4.5.13 from central in [default]\n",
      "\torg.apache.sedona#sedona-common;1.7.1 from central in [default]\n",
      "\torg.apache.sedona#sedona-spark-3.5_2.12;1.7.1 from central in [default]\n",
      "\torg.apache.sedona#sedona-spark-common-3.5_2.12;1.7.1 from central in [default]\n",
      "\torg.apache.sedona#shade-proto;1.7.1 from central in [default]\n",
      "\torg.beryx#awt-color-factory;1.0.0 from central in [default]\n",
      "\torg.checkerframework#checker-qual;3.10.0 from central in [default]\n",
      "\torg.datasyslab#geotools-wrapper;1.7.1-28.5 from central in [default]\n",
      "\torg.jdom#jdom2;2.0.6 from central in [default]\n",
      "\torg.locationtech.jts#jts-core;1.20.0 from central in [default]\n",
      "\torg.locationtech.spatial4j#spatial4j;0.8 from central in [default]\n",
      "\torg.scala-lang.modules#scala-collection-compat_2.12;2.5.0 from central in [default]\n",
      "\torg.slf4j#slf4j-api;1.7.36 from central in [default]\n",
      "\torg.wololo#jts2geojson;0.16.1 from central in [default]\n",
      "\torg.xerial#sqlite-jdbc;3.41.2.2 from central in [default]\n",
      "\t:: evicted modules:\n",
      "\tcom.google.guava#guava;25.1-jre by [com.google.guava#guava;30.1-jre] in [default]\n",
      "\torg.checkerframework#checker-qual;2.0.0 by [org.checkerframework#checker-qual;3.10.0] in [default]\n",
      "\tcom.google.errorprone#error_prone_annotations;2.1.3 by [com.google.errorprone#error_prone_annotations;2.5.1] in [default]\n",
      "\tcom.google.j2objc#j2objc-annotations;1.1 by [com.google.j2objc#j2objc-annotations;1.3] in [default]\n",
      "\torg.codehaus.mojo#animal-sniffer-annotations;1.14 transitively in [default]\n",
      "\torg.checkerframework#checker-qual;3.5.0 by [org.checkerframework#checker-qual;3.10.0] in [default]\n",
      "\tcom.google.errorprone#error_prone_annotations;2.3.4 by [com.google.errorprone#error_prone_annotations;2.5.1] in [default]\n",
      "\torg.slf4j#slf4j-api;1.7.28 by [org.slf4j#slf4j-api;1.7.36] in [default]\n",
      "\t---------------------------------------------------------------------\n",
      "\t|                  |            modules            ||   artifacts   |\n",
      "\t|       conf       | number| search|dwnlded|evicted|| number|dwnlded|\n",
      "\t---------------------------------------------------------------------\n",
      "\t|      default     |   47  |   0   |   0   |   8   ||   39  |   0   |\n",
      "\t---------------------------------------------------------------------\n",
      ":: retrieving :: org.apache.spark#spark-submit-parent-90f7009d-f68c-429f-8d86-193945b63205\n",
      "\tconfs: [default]\n",
      "\t0 artifacts copied, 39 already retrieved (0kB/36ms)\n",
      "25/05/25 22:25:54 WARN NativeCodeLoader: Unable to load native-hadoop library for your platform... using builtin-java classes where applicable\n",
      "Setting default log level to \"WARN\".\n",
      "To adjust logging level use sc.setLogLevel(newLevel). For SparkR, use setLogLevel(newLevel).\n",
      "                                                                                \r"
     ]
    },
    {
     "name": "stderr",
     "output_type": "stream",
     "text": [
      "25/05/25 22:26:08 WARN GarbageCollectionMetrics: To enable non-built-in garbage collector(s) List(G1 Concurrent GC), users should configure it(them) to spark.eventLog.gcMetrics.youngGenerationGarbageCollectors or spark.eventLog.gcMetrics.oldGenerationGarbageCollectors\n"
     ]
    }
   ],
   "source": [
    "from sedona.spark import SedonaContext\n",
    "from pyspark.sql.functions import expr\n",
    "\n",
    "# Start Spark + Sedona\n",
    "config = SedonaContext.builder(). \\\n",
    "    config('spark.jars.repositories', 'https://artifacts.unidata.ucar.edu/repository/unidata-all/'). \\\n",
    "    config('spark.jars.packages',\n",
    "           'org.apache.sedona:sedona-spark-3.5_2.12:1.7.1,'\n",
    "           'org.datasyslab:geotools-wrapper:1.7.1-28.5,'\n",
    "           'edu.ucar:cdm-core:5.4.2'). \\\n",
    "    config('spark.driver.memory', '10g'). \\\n",
    "    config('spark.driver.maxResultSize', '5g'). \\\n",
    "    config('spark.network.timeout', '1000s'). \\\n",
    "    config(\"spark.sql.legacy.parquet.nanosAsLong\", \"true\"). \\\n",
    "    getOrCreate()\n",
    "sedona = SedonaContext.create(config)\n"
   ]
  },
  {
   "cell_type": "code",
   "execution_count": 12,
   "id": "00284425",
   "metadata": {},
   "outputs": [],
   "source": [
    "sdf = sedona.read.parquet(f\"/export/scratch/huan1531/sedona_experiments/data/gl_*.parquet\")"
   ]
  },
  {
   "cell_type": "code",
   "execution_count": 13,
   "id": "17c0b5e6",
   "metadata": {},
   "outputs": [
    {
     "name": "stdout",
     "output_type": "stream",
     "text": [
      "+---------+--------+-------------------+------------------+--------------+-------------------+\n",
      "|longitude|latitude|               time|               t2m|          geom|          timestamp|\n",
      "+---------+--------+-------------------+------------------+--------------+-------------------+\n",
      "|    -75.0|    84.0|1577836800000000000| 242.0457332342676|POINT (-75 84)|2019-12-31 18:00:00|\n",
      "|    -75.0|    84.0|1577840400000000000|242.03962641346033|POINT (-75 84)|2019-12-31 19:00:00|\n",
      "|    -75.0|    84.0|1577844000000000000| 241.9928074539378|POINT (-75 84)|2019-12-31 20:00:00|\n",
      "|    -75.0|    84.0|1577847600000000000| 241.8788134655351|POINT (-75 84)|2019-12-31 21:00:00|\n",
      "|    -75.0|    84.0|1577851200000000000|241.77906872568278|POINT (-75 84)|2019-12-31 22:00:00|\n",
      "|    -75.0|    84.0|1577854800000000000| 241.6345406332437|POINT (-75 84)|2019-12-31 23:00:00|\n",
      "|    -75.0|    84.0|1577858400000000000| 241.5307246795198|POINT (-75 84)|2020-01-01 00:00:00|\n",
      "|    -75.0|    84.0|1577862000000000000|241.40655265643835|POINT (-75 84)|2020-01-01 01:00:00|\n",
      "|    -75.0|    84.0|1577865600000000000|241.32716398594363|POINT (-75 84)|2020-01-01 02:00:00|\n",
      "|    -75.0|    84.0|1577869200000000000|241.19688514205487|POINT (-75 84)|2020-01-01 03:00:00|\n",
      "|    -75.0|    84.0|1577872800000000000|240.89561531556208|POINT (-75 84)|2020-01-01 04:00:00|\n",
      "|    -75.0|    84.0|1577876400000000000|240.72055311908656|POINT (-75 84)|2020-01-01 05:00:00|\n",
      "|    -75.0|    84.0|1577880000000000000|240.60655913068388|POINT (-75 84)|2020-01-01 06:00:00|\n",
      "|    -75.0|    84.0|1577883600000000000|240.49256514228122|POINT (-75 84)|2020-01-01 07:00:00|\n",
      "|    -75.0|    84.0|1577887200000000000| 240.3541438706494|POINT (-75 84)|2020-01-01 08:00:00|\n",
      "|    -75.0|    84.0|1577890800000000000|240.14854757013745|POINT (-75 84)|2020-01-01 09:00:00|\n",
      "|    -75.0|    84.0|1577894400000000000|240.04473161641357|POINT (-75 84)|2020-01-01 10:00:00|\n",
      "|    -75.0|    84.0|1577898000000000000|239.93480884188244|POINT (-75 84)|2020-01-01 11:00:00|\n",
      "|    -75.0|    84.0|1577901600000000000|239.92463080720364|POINT (-75 84)|2020-01-01 12:00:00|\n",
      "|    -75.0|    84.0|1577905200000000000| 239.8248860673513|POINT (-75 84)|2020-01-01 13:00:00|\n",
      "+---------+--------+-------------------+------------------+--------------+-------------------+\n",
      "only showing top 20 rows\n",
      "\n"
     ]
    }
   ],
   "source": [
    "# Create a geometry column for spatial queries\n",
    "sdf = sdf.withColumn(\"geom\", expr(\"ST_Point(longitude, latitude)\")).withColumn(\"timestamp\", expr(\"to_timestamp(time/1000000000 )\"))\n",
    "sdf.createOrReplaceTempView(\"GL\")\n",
    "sdf.show()"
   ]
  },
  {
   "cell_type": "code",
   "execution_count": 27,
   "id": "b2443511",
   "metadata": {},
   "outputs": [
    {
     "name": "stderr",
     "output_type": "stream",
     "text": [
      "[Stage 42:==================================================>     (18 + 2) / 20]\r"
     ]
    },
    {
     "name": "stdout",
     "output_type": "stream",
     "text": [
      "+------------------+--------+---------+------------------+\n",
      "|to_date(timestamp)|latitude|longitude|          avg(t2m)|\n",
      "+------------------+--------+---------+------------------+\n",
      "|        2020-02-24|    80.0|    -60.0|234.16912183024797|\n",
      "|        2020-03-17|    80.0|    -60.0|240.86584456412655|\n",
      "|        2020-02-29|   78.75|    -60.0|228.37222217893188|\n",
      "|        2020-03-31|   78.75|    -60.0| 244.0321463357487|\n",
      "|        2020-04-03|    78.5|    -60.0|248.27180668120687|\n",
      "|        2020-04-25|    78.5|    -60.0|262.82037426805334|\n",
      "|        2020-04-02|   78.25|    -60.0| 247.9460247545293|\n",
      "|        2020-04-23|   78.25|    -60.0|260.14626529010735|\n",
      "|        2020-04-22|   77.25|    -60.0| 259.8801096832564|\n",
      "|        2020-03-07|    77.0|    -60.0| 236.4869147774799|\n",
      "|        2020-02-01|   76.25|    -60.0|245.71211577644183|\n",
      "|        2020-02-23|    75.5|    -60.0|244.54952976525485|\n",
      "|        2020-03-06|   73.75|    -60.0|  241.070338244215|\n",
      "|        2020-04-23|   73.75|    -60.0| 266.0932061359803|\n",
      "|        2020-02-27|    73.0|    -60.0|241.32148124991465|\n",
      "|        2020-03-04|   72.25|    -60.0|243.64012236670317|\n",
      "|        2020-02-09|    71.0|    -60.0|248.20675207621818|\n",
      "|        2020-02-09|    70.5|    -60.0|248.38495250005303|\n",
      "|        2020-02-15|    69.0|    -60.0| 250.5113135783677|\n",
      "|        2020-02-17|    68.5|    -60.0| 250.5050371236491|\n",
      "+------------------+--------+---------+------------------+\n",
      "only showing top 20 rows\n",
      "\n"
     ]
    },
    {
     "name": "stderr",
     "output_type": "stream",
     "text": [
      "                                                                                \r"
     ]
    }
   ],
   "source": [
    "# get variable: daily-0.25\n",
    "\n",
    "max_lat = 80\n",
    "min_lat = 60\n",
    "min_lon = -60\n",
    "max_lon = -30\n",
    "start_time = \"2020-02-01\"\n",
    "end_time = \"2020-04-30\"\n",
    "\n",
    "query = f\"\"\"\n",
    "    SELECT to_date(timestamp), latitude, longitude, avg(t2m)\n",
    "    FROM GL\n",
    "    WHERE latitude BETWEEN {min_lat} AND {max_lat}\n",
    "        AND longitude BETWEEN {min_lon} AND {max_lon}\n",
    "        AND timestamp BETWEEN '{start_time}' AND '{end_time}'\n",
    "    GROUP BY to_date(timestamp), latitude, longitude\n",
    "    \"\"\"\n",
    "result = sedona.sql(query)\n",
    "result.show()"
   ]
  },
  {
   "cell_type": "code",
   "execution_count": 28,
   "id": "810563f6",
   "metadata": {},
   "outputs": [
    {
     "name": "stderr",
     "output_type": "stream",
     "text": [
      "[Stage 45:==================================================>     (18 + 2) / 20]\r"
     ]
    },
    {
     "name": "stdout",
     "output_type": "stream",
     "text": [
      "+-------------------------+--------+---------+------------------+\n",
      "|month(to_date(timestamp))|latitude|longitude|          avg(t2m)|\n",
      "+-------------------------+--------+---------+------------------+\n",
      "|                        3|   77.75|    -60.0| 235.5000870782407|\n",
      "|                        4|   77.75|   -59.75|252.25854846257278|\n",
      "|                        2|    61.0|    -59.5| 263.4791680356976|\n",
      "|                        4|    76.5|   -59.25|  258.260846548734|\n",
      "|                        4|   60.25|   -59.25| 272.4420701969899|\n",
      "|                        4|   79.25|    -59.0|254.85805064533147|\n",
      "|                        2|   63.25|    -60.0|257.16650817592296|\n",
      "|                        2|   73.25|   -59.75|245.00487690350477|\n",
      "|                        4|   65.75|   -59.75|264.64021380487463|\n",
      "|                        3|   63.25|   -59.75| 260.8396948156056|\n",
      "|                        4|   79.75|    -59.5| 256.0343978120856|\n",
      "|                        3|    64.0|   -59.25|258.08010221844836|\n",
      "|                        3|   66.25|    -59.0|254.47043139783463|\n",
      "|                        2|    73.5|    -60.0|244.61431237104077|\n",
      "|                        2|    66.0|    -60.0|250.12953491262095|\n",
      "|                        3|   79.25|    -60.0|238.06971891833422|\n",
      "|                        4|   74.75|    -60.0| 263.1020367751571|\n",
      "|                        2|    71.0|    -59.5| 244.9426066344398|\n",
      "|                        4|    67.0|   -59.25|  263.945403039223|\n",
      "|                        4|    72.0|    -59.0|264.30157876297875|\n",
      "+-------------------------+--------+---------+------------------+\n",
      "only showing top 20 rows\n",
      "\n"
     ]
    },
    {
     "name": "stderr",
     "output_type": "stream",
     "text": [
      "                                                                                \r"
     ]
    }
   ],
   "source": [
    "# get variable: monthly-0.25\n",
    "query = f\"\"\"\n",
    "    SELECT month(to_date(timestamp)), latitude, longitude, avg(t2m)\n",
    "    FROM GL\n",
    "    WHERE latitude BETWEEN {min_lat} AND {max_lat}\n",
    "        AND longitude BETWEEN {min_lon} AND {max_lon}\n",
    "        AND timestamp BETWEEN '{start_time}' AND '{end_time}'\n",
    "    GROUP BY month(to_date(timestamp)), latitude, longitude\n",
    "    \"\"\"\n",
    "result = sedona.sql(query)\n",
    "result.show()"
   ]
  },
  {
   "cell_type": "code",
   "execution_count": 29,
   "id": "49d9221e",
   "metadata": {},
   "outputs": [
    {
     "name": "stderr",
     "output_type": "stream",
     "text": [
      "[Stage 48:====================================>                   (13 + 7) / 20]\r"
     ]
    },
    {
     "name": "stdout",
     "output_type": "stream",
     "text": [
      "+------------------------+--------+---------+------------------+\n",
      "|year(to_date(timestamp))|latitude|longitude|          avg(t2m)|\n",
      "+------------------------+--------+---------+------------------+\n",
      "|                    2020|   78.75|    -59.5| 242.0474391033751|\n",
      "|                    2020|   78.25|    -59.5|241.14905695605995|\n",
      "|                    2020|   63.75|    -59.0| 262.2782557364784|\n",
      "|                    2020|   75.75|   -59.25|255.59577939215256|\n",
      "|                    2020|   65.75|    -59.5|256.67219804738846|\n",
      "|                    2020|    73.0|   -59.25|252.37323254293588|\n",
      "|                    2020|    61.0|   -59.25| 267.6983546327912|\n",
      "|                    2020|   69.75|    -60.0|252.76973179764155|\n",
      "|                    2020|    66.5|    -60.0|255.26661336424402|\n",
      "|                    2020|   77.25|    -59.0|242.02891946405828|\n",
      "|                    2020|   65.75|    -60.0|256.25186618114276|\n",
      "|                    2020|   74.25|    -59.5|251.30813266278165|\n",
      "|                    2020|   76.75|    -60.0|246.78189393114965|\n",
      "|                    2020|    75.0|    -60.0|251.14862246517512|\n",
      "|                    2020|    75.0|   -59.75|251.47840031876385|\n",
      "|                    2020|    76.0|    -59.5|254.85430384780375|\n",
      "|                    2020|    64.5|   -59.25| 259.2478574118052|\n",
      "|                    2020|   76.25|    -59.0|251.65483292852312|\n",
      "|                    2020|    79.5|   -59.75|243.98487374846326|\n",
      "|                    2020|    67.5|    -59.5| 254.3349276963401|\n",
      "+------------------------+--------+---------+------------------+\n",
      "only showing top 20 rows\n",
      "\n"
     ]
    },
    {
     "name": "stderr",
     "output_type": "stream",
     "text": [
      "                                                                                \r"
     ]
    }
   ],
   "source": [
    "# yearly-0.25\n",
    "query = f\"\"\"\n",
    "    SELECT year(to_date(timestamp)), latitude, longitude, avg(t2m)\n",
    "    FROM GL\n",
    "    WHERE latitude BETWEEN {min_lat} AND {max_lat}\n",
    "        AND longitude BETWEEN {min_lon} AND {max_lon}\n",
    "        AND timestamp BETWEEN '{start_time}' AND '{end_time}'\n",
    "    GROUP BY year(to_date(timestamp)), latitude, longitude\n",
    "    \"\"\"\n",
    "result = sedona.sql(query)\n",
    "result.show()"
   ]
  },
  {
   "cell_type": "code",
   "execution_count": 33,
   "id": "0d6437d0",
   "metadata": {},
   "outputs": [
    {
     "name": "stderr",
     "output_type": "stream",
     "text": [
      "[Stage 60:=====================================================>  (19 + 1) / 20]\r"
     ]
    },
    {
     "name": "stdout",
     "output_type": "stream",
     "text": [
      "+------------------+------------------------+-------------------------+------------------+\n",
      "|to_date(timestamp)|((latitude / 0.5) * 0.5)|((longitude / 0.5) * 0.5)|          avg(t2m)|\n",
      "+------------------+------------------------+-------------------------+------------------+\n",
      "|        2020-02-11|                    78.5|                    -60.0| 238.4643372816614|\n",
      "|        2020-02-14|                    78.0|                    -60.0| 240.1958754313939|\n",
      "|        2020-04-26|                    75.5|                    -60.0| 271.9186466928749|\n",
      "|        2020-03-13|                    74.0|                    -60.0|240.63471835996197|\n",
      "|        2020-03-12|                    73.5|                    -60.0| 242.3185893806153|\n",
      "|        2020-03-18|                    70.0|                    -60.0|260.31975837290315|\n",
      "|        2020-04-01|                    69.5|                    -60.0|254.16102958875535|\n",
      "|        2020-03-27|                    68.0|                    -60.0|262.56041029896545|\n",
      "|        2020-03-16|                    67.5|                    -60.0|245.30881115229406|\n",
      "|        2020-02-03|                    67.0|                    -60.0| 245.6074516531614|\n",
      "|        2020-02-06|                    66.0|                    -60.0|252.66608833682736|\n",
      "|        2020-04-07|                    65.0|                    -60.0| 262.9425955011548|\n",
      "|        2020-04-20|                    65.0|                    -60.0| 271.8596565002157|\n",
      "|        2020-02-10|                    64.5|                    -60.0|251.61609683427466|\n",
      "|        2020-02-28|                    64.5|                    -60.0|246.95697423461604|\n",
      "|        2020-03-17|                    64.5|                    -60.0|260.09868297798386|\n",
      "|        2020-04-16|                    63.5|                    -60.0| 270.2350301230885|\n",
      "|        2020-02-29|                    62.5|                    -60.0| 258.1217269670587|\n",
      "|        2020-02-28|                    62.0|                    -60.0|259.17074307462127|\n",
      "|        2020-03-20|                    75.5|                    -59.5|251.99069091893264|\n",
      "+------------------+------------------------+-------------------------+------------------+\n",
      "only showing top 20 rows\n",
      "\n"
     ]
    },
    {
     "name": "stderr",
     "output_type": "stream",
     "text": [
      "                                                                                \r"
     ]
    }
   ],
   "source": [
    "# daily-0.5\n",
    "query = f\"\"\"\n",
    "    SELECT to_date(timestamp), int(latitude/0.5)*0.5, int(longitude/0.5)*0.5, avg(t2m)\n",
    "    FROM GL\n",
    "    WHERE latitude BETWEEN {min_lat} AND {max_lat}\n",
    "        AND longitude BETWEEN {min_lon} AND {max_lon}\n",
    "        AND timestamp BETWEEN '{start_time}' AND '{end_time}'\n",
    "    GROUP BY to_date(timestamp), int(latitude/0.5), int(longitude/0.5)\n",
    "    \"\"\"\n",
    "result = sedona.sql(query)\n",
    "result.show()"
   ]
  },
  {
   "cell_type": "code",
   "execution_count": 34,
   "id": "22f1ca7a",
   "metadata": {},
   "outputs": [
    {
     "name": "stderr",
     "output_type": "stream",
     "text": [
      "[Stage 63:=================================>                      (12 + 8) / 20]\r"
     ]
    },
    {
     "name": "stdout",
     "output_type": "stream",
     "text": [
      "+------------------+--------+---------+------------------+\n",
      "|to_date(timestamp)|latitude|longitude|          avg(t2m)|\n",
      "+------------------+--------+---------+------------------+\n",
      "|        2020-03-15|      79|      -60|239.94068241606172|\n",
      "|        2020-04-28|      77|      -60|253.16930733473893|\n",
      "|        2020-02-27|      76|      -60|242.33669780064804|\n",
      "|        2020-03-07|      74|      -60|241.28026020946547|\n",
      "|        2020-02-09|      71|      -60| 248.0965324423421|\n",
      "|        2020-02-03|      70|      -60|243.20161870595766|\n",
      "|        2020-04-04|      70|      -60| 258.2664458976479|\n",
      "|        2020-03-26|      66|      -60| 258.4145363022247|\n",
      "|        2020-02-28|      65|      -60|246.90343353135765|\n",
      "|        2020-04-27|      63|      -60| 270.3412421558096|\n",
      "|        2020-02-12|      78|      -59|238.10305945904133|\n",
      "|        2020-03-04|      76|      -59|245.64609107752256|\n",
      "|        2020-04-18|      72|      -59| 264.8458243733756|\n",
      "|        2020-02-17|      68|      -59| 251.5494201050088|\n",
      "|        2020-04-16|      67|      -59| 267.2146930310918|\n",
      "|        2020-04-10|      65|      -59| 262.7940916139192|\n",
      "|        2020-02-21|      60|      -59|260.47250840898147|\n",
      "|        2020-03-17|      60|      -59| 268.6642943191617|\n",
      "|        2020-02-03|      80|      -60|235.62076402631328|\n",
      "|        2020-03-17|      79|      -60|237.78927913158932|\n",
      "+------------------+--------+---------+------------------+\n",
      "only showing top 20 rows\n",
      "\n"
     ]
    },
    {
     "name": "stderr",
     "output_type": "stream",
     "text": [
      "                                                                                \r"
     ]
    }
   ],
   "source": [
    "# daily-1\n",
    "query = f\"\"\"\n",
    "    SELECT to_date(timestamp), int(latitude), int(longitude), avg(t2m)\n",
    "    FROM GL\n",
    "    WHERE latitude BETWEEN {min_lat} AND {max_lat}\n",
    "        AND longitude BETWEEN {min_lon} AND {max_lon}\n",
    "        AND timestamp BETWEEN '{start_time}' AND '{end_time}'\n",
    "    GROUP BY to_date(timestamp), int(latitude), int(longitude)\n",
    "    \"\"\"\n",
    "result = sedona.sql(query)\n",
    "result.show()"
   ]
  },
  {
   "cell_type": "code",
   "execution_count": 35,
   "id": "4f612694",
   "metadata": {},
   "outputs": [
    {
     "name": "stderr",
     "output_type": "stream",
     "text": [
      "[Stage 66:=======================================>                (14 + 6) / 20]\r"
     ]
    },
    {
     "name": "stdout",
     "output_type": "stream",
     "text": [
      "+--------+---------+------------------+\n",
      "|latitude|longitude|          avg(t2m)|\n",
      "+--------+---------+------------------+\n",
      "|      78|      -60|241.55426257596383|\n",
      "|      79|      -59|243.39979221247552|\n",
      "|      80|      -60|245.02903432356433|\n",
      "|      65|      -60| 256.6135375925568|\n",
      "|      67|      -59|254.57154573881886|\n",
      "|      60|      -59|267.78185513876014|\n",
      "|      71|      -59| 252.5342646807456|\n",
      "|      61|      -59| 267.2709019542673|\n",
      "|      68|      -60| 253.4579179923501|\n",
      "|      66|      -59|255.93185669157108|\n",
      "|      69|      -60|252.97881679108085|\n",
      "|      64|      -59|259.37367597977527|\n",
      "|      65|      -59| 257.3407471513011|\n",
      "|      62|      -59|265.92550431203324|\n",
      "|      80|      -59|245.28258103225724|\n",
      "|      69|      -59|253.42958728272345|\n",
      "|      76|      -60|251.13748881024665|\n",
      "|      72|      -60|251.85966659118375|\n",
      "|      70|      -59| 252.9453369655827|\n",
      "|      63|      -59|262.85068155820807|\n",
      "+--------+---------+------------------+\n",
      "only showing top 20 rows\n",
      "\n"
     ]
    },
    {
     "name": "stderr",
     "output_type": "stream",
     "text": [
      "                                                                                \r"
     ]
    }
   ],
   "source": [
    "# heatmap: 1-degree\n",
    "query = f\"\"\"\n",
    "    SELECT int(latitude), int(longitude), avg(t2m)\n",
    "    FROM GL\n",
    "    WHERE latitude BETWEEN {min_lat} AND {max_lat}\n",
    "        AND longitude BETWEEN {min_lon} AND {max_lon}\n",
    "        AND timestamp BETWEEN '{start_time}' AND '{end_time}'\n",
    "    GROUP BY int(latitude), int(longitude)\n",
    "    \"\"\"\n",
    "result = sedona.sql(query)\n",
    "result.show()\n"
   ]
  },
  {
   "cell_type": "code",
   "execution_count": 37,
   "id": "09130055",
   "metadata": {},
   "outputs": [
    {
     "name": "stderr",
     "output_type": "stream",
     "text": [
      "[Stage 72:============================================>           (16 + 4) / 20]\r"
     ]
    },
    {
     "name": "stdout",
     "output_type": "stream",
     "text": [
      "+------------------+------------------+\n",
      "|to_date(timestamp)|          avg(t2m)|\n",
      "+------------------+------------------+\n",
      "|        2020-04-30|258.84280067809146|\n",
      "|        2020-03-07|247.73517112681435|\n",
      "|        2020-03-13|244.07699351090926|\n",
      "|        2020-02-04|249.53503806179583|\n",
      "|        2020-02-15|251.39328894421308|\n",
      "|        2020-02-12|247.83334599577054|\n",
      "|        2020-04-29| 259.5269189509637|\n",
      "|        2020-04-26| 264.4540002987955|\n",
      "|        2020-04-21| 264.1552609010633|\n",
      "|        2020-03-09|248.81328597521448|\n",
      "|        2020-03-10| 246.8260945325636|\n",
      "|        2020-03-11| 245.6889452570519|\n",
      "|        2020-04-19| 258.9424783155384|\n",
      "|        2020-02-11|248.75475794885722|\n",
      "|        2020-04-13| 261.7828117812596|\n",
      "|        2020-02-25| 242.1614716602057|\n",
      "|        2020-03-29| 260.2015067611161|\n",
      "|        2020-02-09|252.27650145548768|\n",
      "|        2020-03-21|249.89361785108426|\n",
      "|        2020-04-14|259.69713384241265|\n",
      "+------------------+------------------+\n",
      "only showing top 20 rows\n",
      "\n"
     ]
    },
    {
     "name": "stderr",
     "output_type": "stream",
     "text": [
      "                                                                                \r"
     ]
    }
   ],
   "source": [
    "# find time: daily-0.25\n",
    "query = f\"\"\"\n",
    "    SELECT to_date(timestamp), avg(t2m)\n",
    "    FROM GL\n",
    "    WHERE latitude BETWEEN {min_lat} AND {max_lat}\n",
    "        AND longitude BETWEEN {min_lon} AND {max_lon}\n",
    "        AND timestamp BETWEEN '{start_time}' AND '{end_time}'\n",
    "    GROUP BY to_date(timestamp)\n",
    "    HAVING avg(t2m) > 235\n",
    "    \"\"\"\n",
    "result = sedona.sql(query)\n",
    "result.show()"
   ]
  },
  {
   "cell_type": "code",
   "execution_count": null,
   "id": "15f705ec",
   "metadata": {},
   "outputs": [],
   "source": [
    "sedona.stop()"
   ]
  },
  {
   "cell_type": "code",
   "execution_count": null,
   "id": "4d9c2be5",
   "metadata": {},
   "outputs": [],
   "source": []
  }
 ],
 "metadata": {
  "kernelspec": {
   "display_name": "venv",
   "language": "python",
   "name": "python3"
  },
  "language_info": {
   "codemirror_mode": {
    "name": "ipython",
    "version": 3
   },
   "file_extension": ".py",
   "mimetype": "text/x-python",
   "name": "python",
   "nbconvert_exporter": "python",
   "pygments_lexer": "ipython3",
   "version": "3.10.12"
  }
 },
 "nbformat": 4,
 "nbformat_minor": 5
}
