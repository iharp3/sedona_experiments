{
 "cells": [
  {
   "cell_type": "markdown",
   "id": "ac114fc8",
   "metadata": {},
   "source": [
    "### Copy data to current server"
   ]
  },
  {
   "cell_type": "code",
   "execution_count": null,
   "id": "8dd32781",
   "metadata": {},
   "outputs": [],
   "source": [
    "import os\n",
    "\n",
    "# Remote data directory\n",
    "remote_data_dir = \"/data/2m_temperature_GL_2015-2024.nc\"\n",
    "remote_access = \"uribe055@cs-u-spatial-513.cs.umn.edu:\" + remote_data_dir\n",
    "\n",
    "# Local data directory\n",
    "home_dir = \"/home/uribe-55/sedona_experiments\"\n",
    "local_data_dir = os.path.join(home_dir, \"unprocessed_data\")\n",
    "local_access = \"uribe055@cs-spatial-501.cs.umn.edu:\" + local_data_dir"
   ]
  },
  {
   "cell_type": "code",
   "execution_count": null,
   "id": "6cba3795",
   "metadata": {
    "vscode": {
     "languageId": "shellscript"
    }
   },
   "outputs": [],
   "source": [
    "scp ${remote_access} ${local_access}"
   ]
  },
  {
   "cell_type": "markdown",
   "id": "072f8bcb",
   "metadata": {},
   "source": [
    "### Prepare data"
   ]
  },
  {
   "cell_type": "code",
   "execution_count": null,
   "id": "5ed3e4cc",
   "metadata": {},
   "outputs": [],
   "source": [
    "import xarray as xr\n",
    "import os\n",
    "\n",
    "# Get latest 5 years of data\n",
    "ds_full = xr.open_dataset(os.path.join(local_data_dir, \"2m_temperature_GL_2015-2024.nc\"))\n",
    "ds = ds_full.sel(time=slice('2019-01-01', '2024-12-31'))\n",
    "ds = ds.rename({\"valid_time\": \"time\", \"2tm\": \"2m_temperature\"})\n",
    "\n",
    "# No splitting data\n",
    "ds.to_netcdf(os.path.join(home_dir, f\"processed_data/2m_temperature_GL_2015-2024.nc\"))\n",
    "\n",
    "# Split data into daily .nc files\n",
    "# for t in ds.time[::24]:\n",
    "#     date = str(t.values)[:10]\n",
    "#     ds_single = ds.sel(time=t)\n",
    "#     ds_single.to_netcdf(os.path.join(home_dir, f\"processed_data/t2m_{date}.nc\"))"
   ]
  }
 ],
 "metadata": {
  "kernelspec": {
   "display_name": "venv",
   "language": "python",
   "name": "python3"
  },
  "language_info": {
   "codemirror_mode": {
    "name": "ipython",
    "version": 3
   },
   "file_extension": ".py",
   "mimetype": "text/x-python",
   "name": "python",
   "nbconvert_exporter": "python",
   "pygments_lexer": "ipython3",
   "version": "3.9.6"
  }
 },
 "nbformat": 4,
 "nbformat_minor": 5
}
