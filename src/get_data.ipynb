{
 "cells": [
  {
   "cell_type": "markdown",
   "id": "83b2568a",
   "metadata": {},
   "source": [
    "# Setup: only need to run this notebook once"
   ]
  },
  {
   "cell_type": "markdown",
   "id": "ac114fc8",
   "metadata": {},
   "source": [
    "### Copy data to current server"
   ]
  },
  {
   "cell_type": "code",
   "execution_count": 16,
   "id": "8dd32781",
   "metadata": {},
   "outputs": [],
   "source": [
    "import os\n",
    "\n",
    "# Remote data directory\n",
    "remote_data_dir = \"/data/2m_temperature_GL_2015-2024.nc\"\n",
    "remote_access = {\n",
    "    'user': 'uribe055',\n",
    "    'host': 'cs-u-spatial-513.cs.umn.edu',\n",
    "    'path': remote_data_dir\n",
    "\n",
    "}\n",
    "\n",
    "# Local data directory\n",
    "home_dir = \"/home/uribe055/sedona_experiments\"\n",
    "local_data_dir = os.path.join(home_dir, \"unprocessed_data\")\n",
    "\n",
    "local_access = {\n",
    "    'user': 'uribe055',\n",
    "    'host': 'cs-spatial-501.cs.umn.edu',\n",
    "    'path': local_data_dir\n",
    "}"
   ]
  },
  {
   "cell_type": "code",
   "execution_count": null,
   "id": "6cba3795",
   "metadata": {},
   "outputs": [],
   "source": [
    "''' \n",
    "Run in notebook once\n",
    "'''\n",
    "# import subprocess\n",
    "# scp_command = [\n",
    "#     \"scp\",\n",
    "#     f\"{remote_access['user']}@{remote_access['host']}:{remote_access['path']}\",\n",
    "#     local_access['path']\n",
    "# ]\n",
    "\n",
    "# result = subprocess.run(scp_command, capture_output=True, text=True)\n",
    "# print(\"STDOUT:\", result.stdout)\n",
    "# print(\"STDERR:\", result.stderr)\n",
    "\n",
    "'''\n",
    "Run in terminal once\n",
    "'''\n",
    "# scp uribe055@cs-u-spatial-513.cs.umn.edu:/data/2m_temperature_GL_2015-2024.nc uribe055@cs-spatial-501.cs.umn.edu:/home/uribe055/sedona_experiments/unprocessed_data/2m_temperature_GL_2015-2024.nc"
   ]
  },
  {
   "cell_type": "markdown",
   "id": "072f8bcb",
   "metadata": {},
   "source": [
    "### Prepare data"
   ]
  },
  {
   "cell_type": "markdown",
   "id": "dcc87321",
   "metadata": {},
   "source": [
    "**Notes:** \n",
    "* When I ran the data splitting without changing the *time* type, it took about 2 hours.\n",
    "* The *time* type needs to be in milliseconds to be read into spark. I originally did not change the *time* type, and ran additional code to fix my version of the data. The code below should create the parquet files with the timestamp in milliseconds (but I haven't tried it) with the following line:\n",
    "    \n",
    "    `df_single[\"time\"] = df_single[\"time\"].astype(\"datetime64[ms]\")`"
   ]
  },
  {
   "cell_type": "code",
   "execution_count": null,
   "id": "5ed3e4cc",
   "metadata": {},
   "outputs": [],
   "source": [
    "# import xarray as xr\n",
    "# import os\n",
    "\n",
    "# # Get latest 5 years of data\n",
    "# ds_full = xr.open_dataset(os.path.join(local_data_dir, \"2m_temperature_GL_2015-2024.nc\"))\n",
    "# ds = ds_full.rename({\"validtime\": \"time\", \"t2m\": \"2m_temperature\"})\n",
    "# ds = ds.sel(time=slice('2020-01-01', '2024-12-31'))\n",
    "\n",
    "# # No splitting data         # TOO LARGE A FILE TO READ INTO SEDONA IN NOTEBOOK\n",
    "# # ds.to_netcdf(os.path.join(home_dir, f\"processed_data/2m_temperature_GL_2020-2024.nc\"))\n",
    "\n",
    "# # Split data into daily .parquet files      # TOOK ~115 MINUTES\n",
    "# for t in ds.time[::24]:\n",
    "#     date = str(t.values)[:10]\n",
    "#     ds_single = ds.sel(time=t)\n",
    "#     df_single = ds_single.to_dataframe().reset_index()\n",
    "#     df_single[\"time\"] = df_single[\"time\"].astype(\"datetime64[ms]\")\n",
    "\n",
    "#     df_single.to_parquet(os.path.join(home_dir, f\"processed_data/t2m_{date}.parquet\"))\n",
    "#     ds_single.close()"
   ]
  },
  {
   "cell_type": "markdown",
   "id": "a2f23ef5",
   "metadata": {},
   "source": [
    "### Code to fix timestamp type to ms"
   ]
  },
  {
   "cell_type": "markdown",
   "id": "843e2ce2",
   "metadata": {},
   "source": [
    "**Notes:**\n",
    "* Took ~2 minutes to run."
   ]
  },
  {
   "cell_type": "code",
   "execution_count": 18,
   "id": "9ed1ba51",
   "metadata": {},
   "outputs": [],
   "source": [
    "import pyarrow.parquet as pq\n",
    "import pyarrow as pa\n",
    "from pathlib import Path\n",
    "\n",
    "parquet_files = list(Path(\"/home/uribe055/sedona_experiments/processed_data\").rglob(\"*.parquet\"))\n",
    "\n",
    "for f in parquet_files:\n",
    "\n",
    "    table = pq.read_table(f)\n",
    "    table  = table.set_column(table.schema.get_field_index(\"time\"), \"time\",\n",
    "                              table.column(\"time\").cast(pa.timestamp(\"ms\")))\n",
    "    pq.write_table(table, f\"/home/uribe055/sedona_experiments/data/{Path(f).stem}.parquet\")"
   ]
  }
 ],
 "metadata": {
  "kernelspec": {
   "display_name": "Python (venv)",
   "language": "python",
   "name": "venv"
  },
  "language_info": {
   "codemirror_mode": {
    "name": "ipython",
    "version": 3
   },
   "file_extension": ".py",
   "mimetype": "text/x-python",
   "name": "python",
   "nbconvert_exporter": "python",
   "pygments_lexer": "ipython3",
   "version": "3.10.12"
  }
 },
 "nbformat": 4,
 "nbformat_minor": 5
}
